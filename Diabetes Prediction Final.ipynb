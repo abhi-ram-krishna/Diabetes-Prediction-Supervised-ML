{
 "cells": [
  {
   "cell_type": "markdown",
   "id": "f1a9fa73-a430-41c7-af4a-f7feec84c188",
   "metadata": {},
   "source": [
    "<center><h1><u>PROJECT: <b>DIABETES PREDICTION - SUPERVISED ML</b></u></h1></center>"
   ]
  },
  {
   "cell_type": "markdown",
   "id": "d5e461c5-fc81-45ca-aeb6-7de51e17dd39",
   "metadata": {},
   "source": [
    "he dataset used in the upcoming phases, <i>dataset_for_preprocessing.csv</i>, is derived from <i>brfss_diabetes_dataset_raw.csv</i>, which can be downloaded from the <a href=\"https://archive.ics.uci.edu/dataset/891/cdc+diabetes+health+indicators\">UCI ML Repository</a>. The dataset was obtained after handling null values, removing duplicate entries, applying oversampling to balance the minority target class, and performing basic feature construction. The derived dataset contains only categorical features, including both binary and ordinal variables. [**See**: Notebook upto EDA](./Diabetes_Prediction_upto_EDA.ipynb)<br><br>\n",
    "Number of Columns: <b>22</b> (21 features + 1target) "
   ]
  },
  {
   "cell_type": "code",
   "execution_count": 1,
   "id": "dd7093ee-b052-475a-bd2d-2906b303128a",
   "metadata": {},
   "outputs": [],
   "source": [
    "import numpy as np\n",
    "import pandas as pd\n",
    "import warnings\n",
    "from termcolor import colored\n",
    "\n",
    "pd.pandas.set_option('display.max_columns',None)\n",
    "warnings.filterwarnings('ignore')"
   ]
  },
  {
   "cell_type": "code",
   "execution_count": 2,
   "id": "bce62c88-05ad-48d5-ba08-cbb0650a60ba",
   "metadata": {},
   "outputs": [],
   "source": [
    "data = pd.read_csv('dataset_for_preprocessing.csv', index_col=0)"
   ]
  },
  {
   "cell_type": "code",
   "execution_count": 3,
   "id": "320235e6-5fec-4ba7-898a-bf8bcd8e722f",
   "metadata": {},
   "outputs": [
    {
     "data": {
      "text/html": [
       "<div>\n",
       "<style scoped>\n",
       "    .dataframe tbody tr th:only-of-type {\n",
       "        vertical-align: middle;\n",
       "    }\n",
       "\n",
       "    .dataframe tbody tr th {\n",
       "        vertical-align: top;\n",
       "    }\n",
       "\n",
       "    .dataframe thead th {\n",
       "        text-align: right;\n",
       "    }\n",
       "</style>\n",
       "<table border=\"1\" class=\"dataframe\">\n",
       "  <thead>\n",
       "    <tr style=\"text-align: right;\">\n",
       "      <th></th>\n",
       "      <th>HighBP</th>\n",
       "      <th>HighChol</th>\n",
       "      <th>CholCheck</th>\n",
       "      <th>Smoker</th>\n",
       "      <th>Stroke</th>\n",
       "      <th>HeartDiseaseorAttack</th>\n",
       "      <th>PhysActivity</th>\n",
       "      <th>Fruits</th>\n",
       "      <th>Veggies</th>\n",
       "      <th>HvyAlcoholConsump</th>\n",
       "      <th>AnyHealthcare</th>\n",
       "      <th>NoDocbcCost</th>\n",
       "      <th>GenHlth</th>\n",
       "      <th>DiffWalk</th>\n",
       "      <th>Sex</th>\n",
       "      <th>Age</th>\n",
       "      <th>Education</th>\n",
       "      <th>Income</th>\n",
       "      <th>target</th>\n",
       "      <th>BMI_Category</th>\n",
       "      <th>MntlHlthNotGood</th>\n",
       "      <th>PhysHlthNotGood</th>\n",
       "    </tr>\n",
       "  </thead>\n",
       "  <tbody>\n",
       "    <tr>\n",
       "      <th>0</th>\n",
       "      <td>1</td>\n",
       "      <td>1</td>\n",
       "      <td>1</td>\n",
       "      <td>1</td>\n",
       "      <td>0</td>\n",
       "      <td>0</td>\n",
       "      <td>0</td>\n",
       "      <td>0</td>\n",
       "      <td>1</td>\n",
       "      <td>0</td>\n",
       "      <td>1</td>\n",
       "      <td>0</td>\n",
       "      <td>5</td>\n",
       "      <td>1</td>\n",
       "      <td>0</td>\n",
       "      <td>9</td>\n",
       "      <td>4</td>\n",
       "      <td>3</td>\n",
       "      <td>0</td>\n",
       "      <td>Obese</td>\n",
       "      <td>16+ days</td>\n",
       "      <td>6-15 days</td>\n",
       "    </tr>\n",
       "    <tr>\n",
       "      <th>1</th>\n",
       "      <td>0</td>\n",
       "      <td>0</td>\n",
       "      <td>0</td>\n",
       "      <td>1</td>\n",
       "      <td>0</td>\n",
       "      <td>0</td>\n",
       "      <td>1</td>\n",
       "      <td>0</td>\n",
       "      <td>0</td>\n",
       "      <td>0</td>\n",
       "      <td>0</td>\n",
       "      <td>1</td>\n",
       "      <td>3</td>\n",
       "      <td>0</td>\n",
       "      <td>0</td>\n",
       "      <td>7</td>\n",
       "      <td>6</td>\n",
       "      <td>1</td>\n",
       "      <td>0</td>\n",
       "      <td>Overweight</td>\n",
       "      <td>0 days</td>\n",
       "      <td>0 days</td>\n",
       "    </tr>\n",
       "    <tr>\n",
       "      <th>2</th>\n",
       "      <td>1</td>\n",
       "      <td>1</td>\n",
       "      <td>1</td>\n",
       "      <td>0</td>\n",
       "      <td>0</td>\n",
       "      <td>0</td>\n",
       "      <td>0</td>\n",
       "      <td>1</td>\n",
       "      <td>0</td>\n",
       "      <td>0</td>\n",
       "      <td>1</td>\n",
       "      <td>1</td>\n",
       "      <td>5</td>\n",
       "      <td>1</td>\n",
       "      <td>0</td>\n",
       "      <td>9</td>\n",
       "      <td>4</td>\n",
       "      <td>8</td>\n",
       "      <td>0</td>\n",
       "      <td>Overweight</td>\n",
       "      <td>16+ days</td>\n",
       "      <td>16+ days</td>\n",
       "    </tr>\n",
       "    <tr>\n",
       "      <th>3</th>\n",
       "      <td>1</td>\n",
       "      <td>0</td>\n",
       "      <td>1</td>\n",
       "      <td>0</td>\n",
       "      <td>0</td>\n",
       "      <td>0</td>\n",
       "      <td>1</td>\n",
       "      <td>1</td>\n",
       "      <td>1</td>\n",
       "      <td>0</td>\n",
       "      <td>1</td>\n",
       "      <td>0</td>\n",
       "      <td>2</td>\n",
       "      <td>0</td>\n",
       "      <td>0</td>\n",
       "      <td>11</td>\n",
       "      <td>3</td>\n",
       "      <td>6</td>\n",
       "      <td>0</td>\n",
       "      <td>Overweight</td>\n",
       "      <td>0 days</td>\n",
       "      <td>0 days</td>\n",
       "    </tr>\n",
       "    <tr>\n",
       "      <th>4</th>\n",
       "      <td>1</td>\n",
       "      <td>1</td>\n",
       "      <td>1</td>\n",
       "      <td>0</td>\n",
       "      <td>0</td>\n",
       "      <td>0</td>\n",
       "      <td>1</td>\n",
       "      <td>1</td>\n",
       "      <td>1</td>\n",
       "      <td>0</td>\n",
       "      <td>1</td>\n",
       "      <td>0</td>\n",
       "      <td>2</td>\n",
       "      <td>0</td>\n",
       "      <td>0</td>\n",
       "      <td>11</td>\n",
       "      <td>5</td>\n",
       "      <td>4</td>\n",
       "      <td>0</td>\n",
       "      <td>Normal</td>\n",
       "      <td>1-5 days</td>\n",
       "      <td>0 days</td>\n",
       "    </tr>\n",
       "  </tbody>\n",
       "</table>\n",
       "</div>"
      ],
      "text/plain": [
       "   HighBP  HighChol  CholCheck  Smoker  Stroke  HeartDiseaseorAttack  \\\n",
       "0       1         1          1       1       0                     0   \n",
       "1       0         0          0       1       0                     0   \n",
       "2       1         1          1       0       0                     0   \n",
       "3       1         0          1       0       0                     0   \n",
       "4       1         1          1       0       0                     0   \n",
       "\n",
       "   PhysActivity  Fruits  Veggies  HvyAlcoholConsump  AnyHealthcare  \\\n",
       "0             0       0        1                  0              1   \n",
       "1             1       0        0                  0              0   \n",
       "2             0       1        0                  0              1   \n",
       "3             1       1        1                  0              1   \n",
       "4             1       1        1                  0              1   \n",
       "\n",
       "   NoDocbcCost  GenHlth  DiffWalk  Sex  Age  Education  Income  target  \\\n",
       "0            0        5         1    0    9          4       3       0   \n",
       "1            1        3         0    0    7          6       1       0   \n",
       "2            1        5         1    0    9          4       8       0   \n",
       "3            0        2         0    0   11          3       6       0   \n",
       "4            0        2         0    0   11          5       4       0   \n",
       "\n",
       "  BMI_Category MntlHlthNotGood PhysHlthNotGood  \n",
       "0        Obese        16+ days       6-15 days  \n",
       "1   Overweight          0 days          0 days  \n",
       "2   Overweight        16+ days        16+ days  \n",
       "3   Overweight          0 days          0 days  \n",
       "4       Normal        1-5 days          0 days  "
      ]
     },
     "execution_count": 3,
     "metadata": {},
     "output_type": "execute_result"
    }
   ],
   "source": [
    "data.head()"
   ]
  },
  {
   "cell_type": "code",
   "execution_count": 4,
   "id": "a690e9f2-3283-4e67-aee9-c8b742ae37db",
   "metadata": {},
   "outputs": [
    {
     "data": {
      "text/plain": [
       "(388754, 22)"
      ]
     },
     "execution_count": 4,
     "metadata": {},
     "output_type": "execute_result"
    }
   ],
   "source": [
    "data.shape"
   ]
  },
  {
   "cell_type": "markdown",
   "id": "3a57b9a0-d29c-49e6-8f6c-a875670bd406",
   "metadata": {},
   "source": [
    "<br>"
   ]
  },
  {
   "cell_type": "markdown",
   "id": "befbc6cf-55f8-4524-83b3-431bddc49cf0",
   "metadata": {},
   "source": [
    "<center><h1><b>DATA PREPROCESSING</b></h1></center>"
   ]
  },
  {
   "cell_type": "markdown",
   "id": "4fac4776-caba-4900-aea4-5cc16c11d003",
   "metadata": {},
   "source": [
    "<h1 style=\"color:#4d4d4d;\"><b>OHE - One-Hot Encoding for Categorical Features</b></h1>"
   ]
  },
  {
   "cell_type": "code",
   "execution_count": 5,
   "id": "87ca610d-274f-4246-975e-2a556a58eb41",
   "metadata": {},
   "outputs": [],
   "source": [
    "X = data.drop(columns = 'target')\n",
    "y = data['target']"
   ]
  },
  {
   "cell_type": "code",
   "execution_count": 6,
   "id": "2dc686bd-330a-4834-a596-63e58da696d0",
   "metadata": {},
   "outputs": [
    {
     "data": {
      "text/plain": [
       "21"
      ]
     },
     "execution_count": 6,
     "metadata": {},
     "output_type": "execute_result"
    }
   ],
   "source": [
    "X.shape[1]"
   ]
  },
  {
   "cell_type": "code",
   "execution_count": 7,
   "id": "f97899b2-e965-4a37-987f-df9c69921255",
   "metadata": {},
   "outputs": [
    {
     "data": {
      "text/plain": [
       "Index(['HighBP', 'HighChol', 'CholCheck', 'Smoker', 'Stroke',\n",
       "       'HeartDiseaseorAttack', 'PhysActivity', 'Fruits', 'Veggies',\n",
       "       'HvyAlcoholConsump', 'AnyHealthcare', 'NoDocbcCost', 'GenHlth',\n",
       "       'DiffWalk', 'Sex', 'Age', 'Education', 'Income', 'BMI_Category',\n",
       "       'MntlHlthNotGood', 'PhysHlthNotGood'],\n",
       "      dtype='object')"
      ]
     },
     "execution_count": 7,
     "metadata": {},
     "output_type": "execute_result"
    }
   ],
   "source": [
    "X.columns"
   ]
  },
  {
   "cell_type": "code",
   "execution_count": 8,
   "id": "56e59284-e447-47f0-a436-7f20b153bf9b",
   "metadata": {},
   "outputs": [
    {
     "name": "stdout",
     "output_type": "stream",
     "text": [
      "HighBP\n",
      "1    210230\n",
      "0    178524\n",
      "Name: count, dtype: int64\n",
      "_____________________________________________________________________________\n",
      "HighChol\n",
      "0    198177\n",
      "1    190577\n",
      "Name: count, dtype: int64\n",
      "_____________________________________________________________________________\n",
      "CholCheck\n",
      "1    377841\n",
      "0     10913\n",
      "Name: count, dtype: int64\n",
      "_____________________________________________________________________________\n",
      "Smoker\n",
      "0    222425\n",
      "1    166329\n",
      "Name: count, dtype: int64\n",
      "_____________________________________________________________________________\n",
      "Stroke\n",
      "0    375216\n",
      "1     13538\n",
      "Name: count, dtype: int64\n",
      "_____________________________________________________________________________\n",
      "HeartDiseaseorAttack\n",
      "0    348598\n",
      "1     40156\n",
      "Name: count, dtype: int64\n",
      "_____________________________________________________________________________\n",
      "PhysActivity\n",
      "1    249609\n",
      "0    139145\n",
      "Name: count, dtype: int64\n",
      "_____________________________________________________________________________\n",
      "Fruits\n",
      "1    213143\n",
      "0    175611\n",
      "Name: count, dtype: int64\n",
      "_____________________________________________________________________________\n",
      "Veggies\n",
      "1    287904\n",
      "0    100850\n",
      "Name: count, dtype: int64\n",
      "_____________________________________________________________________________\n",
      "HvyAlcoholConsump\n",
      "0    374509\n",
      "1     14245\n",
      "Name: count, dtype: int64\n",
      "_____________________________________________________________________________\n",
      "AnyHealthcare\n",
      "1    367141\n",
      "0     21613\n",
      "Name: count, dtype: int64\n",
      "_____________________________________________________________________________\n",
      "NoDocbcCost\n",
      "0    363123\n",
      "1     25631\n",
      "Name: count, dtype: int64\n",
      "_____________________________________________________________________________\n",
      "GenHlth\n",
      "3    142145\n",
      "2    111674\n",
      "4     71070\n",
      "1     40597\n",
      "5     23268\n",
      "Name: count, dtype: int64\n",
      "_____________________________________________________________________________\n",
      "DiffWalk\n",
      "0    305419\n",
      "1     83335\n",
      "Name: count, dtype: int64\n",
      "_____________________________________________________________________________\n",
      "Sex\n",
      "0    234005\n",
      "1    154749\n",
      "Name: count, dtype: int64\n",
      "_____________________________________________________________________________\n",
      "Age\n",
      "10    59040\n",
      "9     57063\n",
      "8     48243\n",
      "11    43594\n",
      "7     38658\n",
      "12    30270\n",
      "13    26383\n",
      "6     25921\n",
      "5     19217\n",
      "4     15283\n",
      "3     11598\n",
      "2      7673\n",
      "1      5811\n",
      "Name: count, dtype: int64\n",
      "_____________________________________________________________________________\n",
      "Education\n",
      "6    121254\n",
      "4    120308\n",
      "5    114108\n",
      "3     23015\n",
      "2      9713\n",
      "1       356\n",
      "Name: count, dtype: int64\n",
      "_____________________________________________________________________________\n",
      "Income\n",
      "8    96624\n",
      "7    65445\n",
      "6    59245\n",
      "5    46140\n",
      "4    38666\n",
      "3    32570\n",
      "2    27239\n",
      "1    22825\n",
      "Name: count, dtype: int64\n",
      "_____________________________________________________________________________\n",
      "BMI_Category\n",
      "Obese          175609\n",
      "Overweight     131680\n",
      "Normal          77635\n",
      "Underweight      3830\n",
      "Name: count, dtype: int64\n",
      "_____________________________________________________________________________\n",
      "MntlHlthNotGood\n",
      "0 days       261443\n",
      "1-5 days      60209\n",
      "16+ days      35553\n",
      "6-15 days     31549\n",
      "Name: count, dtype: int64\n",
      "_____________________________________________________________________________\n",
      "PhysHlthNotGood\n",
      "0 days       215654\n",
      "1-5 days      72541\n",
      "16+ days      60437\n",
      "6-15 days     40122\n",
      "Name: count, dtype: int64\n",
      "_____________________________________________________________________________\n"
     ]
    }
   ],
   "source": [
    "for feature in X.columns :\n",
    "        print(X[feature].value_counts())\n",
    "        print(\"_____________________________________________________________________________\")"
   ]
  },
  {
   "cell_type": "code",
   "execution_count": 9,
   "id": "a4a8f48f-8824-434a-a653-dff5b77a5313",
   "metadata": {},
   "outputs": [
    {
     "data": {
      "text/plain": [
       "target\n",
       "0    194377\n",
       "1    194377\n",
       "Name: count, dtype: int64"
      ]
     },
     "execution_count": 9,
     "metadata": {},
     "output_type": "execute_result"
    }
   ],
   "source": [
    "y.value_counts()"
   ]
  },
  {
   "cell_type": "markdown",
   "id": "2da6ebc0-3768-4c47-a27f-a844e4841581",
   "metadata": {},
   "source": [
    "     "
   ]
  },
  {
   "cell_type": "code",
   "execution_count": 10,
   "id": "43dbfe0f-10e5-42d7-811c-51deb7e8a4a7",
   "metadata": {},
   "outputs": [],
   "source": [
    "X_encoded = X.copy()\n",
    "X_encoded = pd.get_dummies(X, columns=X.columns, drop_first=True)"
   ]
  },
  {
   "cell_type": "code",
   "execution_count": 11,
   "id": "fcdb16a7-d5b5-4f70-9878-58a15fa1ed50",
   "metadata": {},
   "outputs": [
    {
     "data": {
      "text/plain": [
       "51"
      ]
     },
     "execution_count": 11,
     "metadata": {},
     "output_type": "execute_result"
    }
   ],
   "source": [
    "len(X_encoded.columns)"
   ]
  },
  {
   "cell_type": "code",
   "execution_count": 12,
   "id": "df7006a2-9b24-413d-8d1a-aaec9222ffeb",
   "metadata": {},
   "outputs": [
    {
     "data": {
      "text/plain": [
       "Index(['HighBP_1', 'HighChol_1', 'CholCheck_1', 'Smoker_1', 'Stroke_1',\n",
       "       'HeartDiseaseorAttack_1', 'PhysActivity_1', 'Fruits_1', 'Veggies_1',\n",
       "       'HvyAlcoholConsump_1', 'AnyHealthcare_1', 'NoDocbcCost_1', 'GenHlth_2',\n",
       "       'GenHlth_3', 'GenHlth_4', 'GenHlth_5', 'DiffWalk_1', 'Sex_1', 'Age_2',\n",
       "       'Age_3', 'Age_4', 'Age_5', 'Age_6', 'Age_7', 'Age_8', 'Age_9', 'Age_10',\n",
       "       'Age_11', 'Age_12', 'Age_13', 'Education_2', 'Education_3',\n",
       "       'Education_4', 'Education_5', 'Education_6', 'Income_2', 'Income_3',\n",
       "       'Income_4', 'Income_5', 'Income_6', 'Income_7', 'Income_8',\n",
       "       'BMI_Category_Obese', 'BMI_Category_Overweight',\n",
       "       'BMI_Category_Underweight', 'MntlHlthNotGood_1-5 days',\n",
       "       'MntlHlthNotGood_16+ days', 'MntlHlthNotGood_6-15 days',\n",
       "       'PhysHlthNotGood_1-5 days', 'PhysHlthNotGood_16+ days',\n",
       "       'PhysHlthNotGood_6-15 days'],\n",
       "      dtype='object')"
      ]
     },
     "execution_count": 12,
     "metadata": {},
     "output_type": "execute_result"
    }
   ],
   "source": [
    "X_encoded.columns"
   ]
  },
  {
   "cell_type": "code",
   "execution_count": 13,
   "id": "036e2a73-5f79-4fd1-8085-dd3eaa0a136a",
   "metadata": {},
   "outputs": [
    {
     "data": {
      "text/html": [
       "<div>\n",
       "<style scoped>\n",
       "    .dataframe tbody tr th:only-of-type {\n",
       "        vertical-align: middle;\n",
       "    }\n",
       "\n",
       "    .dataframe tbody tr th {\n",
       "        vertical-align: top;\n",
       "    }\n",
       "\n",
       "    .dataframe thead th {\n",
       "        text-align: right;\n",
       "    }\n",
       "</style>\n",
       "<table border=\"1\" class=\"dataframe\">\n",
       "  <thead>\n",
       "    <tr style=\"text-align: right;\">\n",
       "      <th></th>\n",
       "      <th>HighBP_1</th>\n",
       "      <th>HighChol_1</th>\n",
       "      <th>CholCheck_1</th>\n",
       "      <th>Smoker_1</th>\n",
       "      <th>Stroke_1</th>\n",
       "      <th>HeartDiseaseorAttack_1</th>\n",
       "      <th>PhysActivity_1</th>\n",
       "      <th>Fruits_1</th>\n",
       "      <th>Veggies_1</th>\n",
       "      <th>HvyAlcoholConsump_1</th>\n",
       "      <th>AnyHealthcare_1</th>\n",
       "      <th>NoDocbcCost_1</th>\n",
       "      <th>GenHlth_2</th>\n",
       "      <th>GenHlth_3</th>\n",
       "      <th>GenHlth_4</th>\n",
       "      <th>GenHlth_5</th>\n",
       "      <th>DiffWalk_1</th>\n",
       "      <th>Sex_1</th>\n",
       "      <th>Age_2</th>\n",
       "      <th>Age_3</th>\n",
       "      <th>Age_4</th>\n",
       "      <th>Age_5</th>\n",
       "      <th>Age_6</th>\n",
       "      <th>Age_7</th>\n",
       "      <th>Age_8</th>\n",
       "      <th>Age_9</th>\n",
       "      <th>Age_10</th>\n",
       "      <th>Age_11</th>\n",
       "      <th>Age_12</th>\n",
       "      <th>Age_13</th>\n",
       "      <th>Education_2</th>\n",
       "      <th>Education_3</th>\n",
       "      <th>Education_4</th>\n",
       "      <th>Education_5</th>\n",
       "      <th>Education_6</th>\n",
       "      <th>Income_2</th>\n",
       "      <th>Income_3</th>\n",
       "      <th>Income_4</th>\n",
       "      <th>Income_5</th>\n",
       "      <th>Income_6</th>\n",
       "      <th>Income_7</th>\n",
       "      <th>Income_8</th>\n",
       "      <th>BMI_Category_Obese</th>\n",
       "      <th>BMI_Category_Overweight</th>\n",
       "      <th>BMI_Category_Underweight</th>\n",
       "      <th>MntlHlthNotGood_1-5 days</th>\n",
       "      <th>MntlHlthNotGood_16+ days</th>\n",
       "      <th>MntlHlthNotGood_6-15 days</th>\n",
       "      <th>PhysHlthNotGood_1-5 days</th>\n",
       "      <th>PhysHlthNotGood_16+ days</th>\n",
       "      <th>PhysHlthNotGood_6-15 days</th>\n",
       "    </tr>\n",
       "  </thead>\n",
       "  <tbody>\n",
       "    <tr>\n",
       "      <th>0</th>\n",
       "      <td>True</td>\n",
       "      <td>True</td>\n",
       "      <td>True</td>\n",
       "      <td>True</td>\n",
       "      <td>False</td>\n",
       "      <td>False</td>\n",
       "      <td>False</td>\n",
       "      <td>False</td>\n",
       "      <td>True</td>\n",
       "      <td>False</td>\n",
       "      <td>True</td>\n",
       "      <td>False</td>\n",
       "      <td>False</td>\n",
       "      <td>False</td>\n",
       "      <td>False</td>\n",
       "      <td>True</td>\n",
       "      <td>True</td>\n",
       "      <td>False</td>\n",
       "      <td>False</td>\n",
       "      <td>False</td>\n",
       "      <td>False</td>\n",
       "      <td>False</td>\n",
       "      <td>False</td>\n",
       "      <td>False</td>\n",
       "      <td>False</td>\n",
       "      <td>True</td>\n",
       "      <td>False</td>\n",
       "      <td>False</td>\n",
       "      <td>False</td>\n",
       "      <td>False</td>\n",
       "      <td>False</td>\n",
       "      <td>False</td>\n",
       "      <td>True</td>\n",
       "      <td>False</td>\n",
       "      <td>False</td>\n",
       "      <td>False</td>\n",
       "      <td>True</td>\n",
       "      <td>False</td>\n",
       "      <td>False</td>\n",
       "      <td>False</td>\n",
       "      <td>False</td>\n",
       "      <td>False</td>\n",
       "      <td>True</td>\n",
       "      <td>False</td>\n",
       "      <td>False</td>\n",
       "      <td>False</td>\n",
       "      <td>True</td>\n",
       "      <td>False</td>\n",
       "      <td>False</td>\n",
       "      <td>False</td>\n",
       "      <td>True</td>\n",
       "    </tr>\n",
       "    <tr>\n",
       "      <th>1</th>\n",
       "      <td>False</td>\n",
       "      <td>False</td>\n",
       "      <td>False</td>\n",
       "      <td>True</td>\n",
       "      <td>False</td>\n",
       "      <td>False</td>\n",
       "      <td>True</td>\n",
       "      <td>False</td>\n",
       "      <td>False</td>\n",
       "      <td>False</td>\n",
       "      <td>False</td>\n",
       "      <td>True</td>\n",
       "      <td>False</td>\n",
       "      <td>True</td>\n",
       "      <td>False</td>\n",
       "      <td>False</td>\n",
       "      <td>False</td>\n",
       "      <td>False</td>\n",
       "      <td>False</td>\n",
       "      <td>False</td>\n",
       "      <td>False</td>\n",
       "      <td>False</td>\n",
       "      <td>False</td>\n",
       "      <td>True</td>\n",
       "      <td>False</td>\n",
       "      <td>False</td>\n",
       "      <td>False</td>\n",
       "      <td>False</td>\n",
       "      <td>False</td>\n",
       "      <td>False</td>\n",
       "      <td>False</td>\n",
       "      <td>False</td>\n",
       "      <td>False</td>\n",
       "      <td>False</td>\n",
       "      <td>True</td>\n",
       "      <td>False</td>\n",
       "      <td>False</td>\n",
       "      <td>False</td>\n",
       "      <td>False</td>\n",
       "      <td>False</td>\n",
       "      <td>False</td>\n",
       "      <td>False</td>\n",
       "      <td>False</td>\n",
       "      <td>True</td>\n",
       "      <td>False</td>\n",
       "      <td>False</td>\n",
       "      <td>False</td>\n",
       "      <td>False</td>\n",
       "      <td>False</td>\n",
       "      <td>False</td>\n",
       "      <td>False</td>\n",
       "    </tr>\n",
       "    <tr>\n",
       "      <th>2</th>\n",
       "      <td>True</td>\n",
       "      <td>True</td>\n",
       "      <td>True</td>\n",
       "      <td>False</td>\n",
       "      <td>False</td>\n",
       "      <td>False</td>\n",
       "      <td>False</td>\n",
       "      <td>True</td>\n",
       "      <td>False</td>\n",
       "      <td>False</td>\n",
       "      <td>True</td>\n",
       "      <td>True</td>\n",
       "      <td>False</td>\n",
       "      <td>False</td>\n",
       "      <td>False</td>\n",
       "      <td>True</td>\n",
       "      <td>True</td>\n",
       "      <td>False</td>\n",
       "      <td>False</td>\n",
       "      <td>False</td>\n",
       "      <td>False</td>\n",
       "      <td>False</td>\n",
       "      <td>False</td>\n",
       "      <td>False</td>\n",
       "      <td>False</td>\n",
       "      <td>True</td>\n",
       "      <td>False</td>\n",
       "      <td>False</td>\n",
       "      <td>False</td>\n",
       "      <td>False</td>\n",
       "      <td>False</td>\n",
       "      <td>False</td>\n",
       "      <td>True</td>\n",
       "      <td>False</td>\n",
       "      <td>False</td>\n",
       "      <td>False</td>\n",
       "      <td>False</td>\n",
       "      <td>False</td>\n",
       "      <td>False</td>\n",
       "      <td>False</td>\n",
       "      <td>False</td>\n",
       "      <td>True</td>\n",
       "      <td>False</td>\n",
       "      <td>True</td>\n",
       "      <td>False</td>\n",
       "      <td>False</td>\n",
       "      <td>True</td>\n",
       "      <td>False</td>\n",
       "      <td>False</td>\n",
       "      <td>True</td>\n",
       "      <td>False</td>\n",
       "    </tr>\n",
       "    <tr>\n",
       "      <th>3</th>\n",
       "      <td>True</td>\n",
       "      <td>False</td>\n",
       "      <td>True</td>\n",
       "      <td>False</td>\n",
       "      <td>False</td>\n",
       "      <td>False</td>\n",
       "      <td>True</td>\n",
       "      <td>True</td>\n",
       "      <td>True</td>\n",
       "      <td>False</td>\n",
       "      <td>True</td>\n",
       "      <td>False</td>\n",
       "      <td>True</td>\n",
       "      <td>False</td>\n",
       "      <td>False</td>\n",
       "      <td>False</td>\n",
       "      <td>False</td>\n",
       "      <td>False</td>\n",
       "      <td>False</td>\n",
       "      <td>False</td>\n",
       "      <td>False</td>\n",
       "      <td>False</td>\n",
       "      <td>False</td>\n",
       "      <td>False</td>\n",
       "      <td>False</td>\n",
       "      <td>False</td>\n",
       "      <td>False</td>\n",
       "      <td>True</td>\n",
       "      <td>False</td>\n",
       "      <td>False</td>\n",
       "      <td>False</td>\n",
       "      <td>True</td>\n",
       "      <td>False</td>\n",
       "      <td>False</td>\n",
       "      <td>False</td>\n",
       "      <td>False</td>\n",
       "      <td>False</td>\n",
       "      <td>False</td>\n",
       "      <td>False</td>\n",
       "      <td>True</td>\n",
       "      <td>False</td>\n",
       "      <td>False</td>\n",
       "      <td>False</td>\n",
       "      <td>True</td>\n",
       "      <td>False</td>\n",
       "      <td>False</td>\n",
       "      <td>False</td>\n",
       "      <td>False</td>\n",
       "      <td>False</td>\n",
       "      <td>False</td>\n",
       "      <td>False</td>\n",
       "    </tr>\n",
       "    <tr>\n",
       "      <th>4</th>\n",
       "      <td>True</td>\n",
       "      <td>True</td>\n",
       "      <td>True</td>\n",
       "      <td>False</td>\n",
       "      <td>False</td>\n",
       "      <td>False</td>\n",
       "      <td>True</td>\n",
       "      <td>True</td>\n",
       "      <td>True</td>\n",
       "      <td>False</td>\n",
       "      <td>True</td>\n",
       "      <td>False</td>\n",
       "      <td>True</td>\n",
       "      <td>False</td>\n",
       "      <td>False</td>\n",
       "      <td>False</td>\n",
       "      <td>False</td>\n",
       "      <td>False</td>\n",
       "      <td>False</td>\n",
       "      <td>False</td>\n",
       "      <td>False</td>\n",
       "      <td>False</td>\n",
       "      <td>False</td>\n",
       "      <td>False</td>\n",
       "      <td>False</td>\n",
       "      <td>False</td>\n",
       "      <td>False</td>\n",
       "      <td>True</td>\n",
       "      <td>False</td>\n",
       "      <td>False</td>\n",
       "      <td>False</td>\n",
       "      <td>False</td>\n",
       "      <td>False</td>\n",
       "      <td>True</td>\n",
       "      <td>False</td>\n",
       "      <td>False</td>\n",
       "      <td>False</td>\n",
       "      <td>True</td>\n",
       "      <td>False</td>\n",
       "      <td>False</td>\n",
       "      <td>False</td>\n",
       "      <td>False</td>\n",
       "      <td>False</td>\n",
       "      <td>False</td>\n",
       "      <td>False</td>\n",
       "      <td>True</td>\n",
       "      <td>False</td>\n",
       "      <td>False</td>\n",
       "      <td>False</td>\n",
       "      <td>False</td>\n",
       "      <td>False</td>\n",
       "    </tr>\n",
       "  </tbody>\n",
       "</table>\n",
       "</div>"
      ],
      "text/plain": [
       "   HighBP_1  HighChol_1  CholCheck_1  Smoker_1  Stroke_1  \\\n",
       "0      True        True         True      True     False   \n",
       "1     False       False        False      True     False   \n",
       "2      True        True         True     False     False   \n",
       "3      True       False         True     False     False   \n",
       "4      True        True         True     False     False   \n",
       "\n",
       "   HeartDiseaseorAttack_1  PhysActivity_1  Fruits_1  Veggies_1  \\\n",
       "0                   False           False     False       True   \n",
       "1                   False            True     False      False   \n",
       "2                   False           False      True      False   \n",
       "3                   False            True      True       True   \n",
       "4                   False            True      True       True   \n",
       "\n",
       "   HvyAlcoholConsump_1  AnyHealthcare_1  NoDocbcCost_1  GenHlth_2  GenHlth_3  \\\n",
       "0                False             True          False      False      False   \n",
       "1                False            False           True      False       True   \n",
       "2                False             True           True      False      False   \n",
       "3                False             True          False       True      False   \n",
       "4                False             True          False       True      False   \n",
       "\n",
       "   GenHlth_4  GenHlth_5  DiffWalk_1  Sex_1  Age_2  Age_3  Age_4  Age_5  Age_6  \\\n",
       "0      False       True        True  False  False  False  False  False  False   \n",
       "1      False      False       False  False  False  False  False  False  False   \n",
       "2      False       True        True  False  False  False  False  False  False   \n",
       "3      False      False       False  False  False  False  False  False  False   \n",
       "4      False      False       False  False  False  False  False  False  False   \n",
       "\n",
       "   Age_7  Age_8  Age_9  Age_10  Age_11  Age_12  Age_13  Education_2  \\\n",
       "0  False  False   True   False   False   False   False        False   \n",
       "1   True  False  False   False   False   False   False        False   \n",
       "2  False  False   True   False   False   False   False        False   \n",
       "3  False  False  False   False    True   False   False        False   \n",
       "4  False  False  False   False    True   False   False        False   \n",
       "\n",
       "   Education_3  Education_4  Education_5  Education_6  Income_2  Income_3  \\\n",
       "0        False         True        False        False     False      True   \n",
       "1        False        False        False         True     False     False   \n",
       "2        False         True        False        False     False     False   \n",
       "3         True        False        False        False     False     False   \n",
       "4        False        False         True        False     False     False   \n",
       "\n",
       "   Income_4  Income_5  Income_6  Income_7  Income_8  BMI_Category_Obese  \\\n",
       "0     False     False     False     False     False                True   \n",
       "1     False     False     False     False     False               False   \n",
       "2     False     False     False     False      True               False   \n",
       "3     False     False      True     False     False               False   \n",
       "4      True     False     False     False     False               False   \n",
       "\n",
       "   BMI_Category_Overweight  BMI_Category_Underweight  \\\n",
       "0                    False                     False   \n",
       "1                     True                     False   \n",
       "2                     True                     False   \n",
       "3                     True                     False   \n",
       "4                    False                     False   \n",
       "\n",
       "   MntlHlthNotGood_1-5 days  MntlHlthNotGood_16+ days  \\\n",
       "0                     False                      True   \n",
       "1                     False                     False   \n",
       "2                     False                      True   \n",
       "3                     False                     False   \n",
       "4                      True                     False   \n",
       "\n",
       "   MntlHlthNotGood_6-15 days  PhysHlthNotGood_1-5 days  \\\n",
       "0                      False                     False   \n",
       "1                      False                     False   \n",
       "2                      False                     False   \n",
       "3                      False                     False   \n",
       "4                      False                     False   \n",
       "\n",
       "   PhysHlthNotGood_16+ days  PhysHlthNotGood_6-15 days  \n",
       "0                     False                       True  \n",
       "1                     False                      False  \n",
       "2                      True                      False  \n",
       "3                     False                      False  \n",
       "4                     False                      False  "
      ]
     },
     "execution_count": 13,
     "metadata": {},
     "output_type": "execute_result"
    }
   ],
   "source": [
    "X_encoded.head()"
   ]
  },
  {
   "cell_type": "markdown",
   "id": "6adcd0d1-3f1d-4f06-97b6-006e4e2a7414",
   "metadata": {},
   "source": [
    "<br>"
   ]
  },
  {
   "cell_type": "markdown",
   "id": "6aad8cde-606c-48ce-b140-887362d438c2",
   "metadata": {},
   "source": [
    "<center><h1><b>SPLITTING TRAIN - TEST DATA</b></h1></center>"
   ]
  },
  {
   "cell_type": "markdown",
   "id": "1afadb40-35d1-4927-9618-0a84af6e05e5",
   "metadata": {},
   "source": [
    "                "
   ]
  },
  {
   "cell_type": "code",
   "execution_count": 14,
   "id": "3353d746-eac8-47bb-a2fe-fac4e476f01e",
   "metadata": {},
   "outputs": [],
   "source": [
    "# from sklearn.model_selection import train_test_split\n",
    "\n",
    "# X_train, X_test, y_train, y_test = train_test_split(X_encoded, y, test_size=0.2)"
   ]
  },
  {
   "cell_type": "code",
   "execution_count": 15,
   "id": "fdce9f5f-de8d-4f80-826a-f3cd92ee236d",
   "metadata": {},
   "outputs": [],
   "source": [
    "# X_train.to_csv(\"X_train_locked.csv\", index=False)\n",
    "# X_test.to_csv(\"X_test_locked.csv\", index=False)\n",
    "# y_train.to_csv(\"y_train_locked.csv\", index=False)\n",
    "# y_test.to_csv(\"y_test_locked.csv\", index=False)"
   ]
  },
  {
   "cell_type": "code",
   "execution_count": 16,
   "id": "c3a61e11-2cc5-4315-9917-6e1dfe3fd97f",
   "metadata": {},
   "outputs": [],
   "source": [
    "X_train = pd.read_csv(\"X_train_locked.csv\")\n",
    "X_test = pd.read_csv(\"X_test_locked.csv\")\n",
    "y_train = pd.read_csv(\"y_train_locked.csv\")\n",
    "y_test = pd.read_csv(\"y_test_locked.csv\")"
   ]
  },
  {
   "cell_type": "code",
   "execution_count": 17,
   "id": "0bba541e-da63-40ae-a0a9-ebc9cab3e2ec",
   "metadata": {},
   "outputs": [
    {
     "data": {
      "text/plain": [
       "(311003, 51)"
      ]
     },
     "execution_count": 17,
     "metadata": {},
     "output_type": "execute_result"
    }
   ],
   "source": [
    "X_train.shape"
   ]
  },
  {
   "cell_type": "code",
   "execution_count": 18,
   "id": "d757c0c1-d806-4e59-ae75-f18362dab546",
   "metadata": {},
   "outputs": [
    {
     "data": {
      "text/plain": [
       "(77751, 51)"
      ]
     },
     "execution_count": 18,
     "metadata": {},
     "output_type": "execute_result"
    }
   ],
   "source": [
    "X_test.shape"
   ]
  },
  {
   "cell_type": "code",
   "execution_count": 19,
   "id": "1aa87623-0ccf-4969-b43b-9c801b08e4bb",
   "metadata": {},
   "outputs": [
    {
     "data": {
      "text/plain": [
       "(311003, 1)"
      ]
     },
     "execution_count": 19,
     "metadata": {},
     "output_type": "execute_result"
    }
   ],
   "source": [
    "y_train.shape"
   ]
  },
  {
   "cell_type": "code",
   "execution_count": 20,
   "id": "f4208fd5-7481-4409-8b8f-db6f11cf471b",
   "metadata": {},
   "outputs": [
    {
     "data": {
      "text/plain": [
       "(77751, 1)"
      ]
     },
     "execution_count": 20,
     "metadata": {},
     "output_type": "execute_result"
    }
   ],
   "source": [
    "y_test.shape"
   ]
  },
  {
   "cell_type": "markdown",
   "id": "d609cf97-31c1-4be2-923c-9073e561f6a8",
   "metadata": {},
   "source": [
    "<br>"
   ]
  },
  {
   "cell_type": "markdown",
   "id": "39616e66-1d5f-4c36-8d88-672e6f512ea4",
   "metadata": {},
   "source": [
    "<center><h1><b>MODEL BUILDING</b></h1></center>"
   ]
  },
  {
   "cell_type": "markdown",
   "id": "74e2de9a-fc82-48c1-806c-0ade5b71e31c",
   "metadata": {},
   "source": [
    "Based on our dataset, most values, including the target variable, are categorical. Therefore, classification algorithms are the suitable choice for model building.\n",
    "Classification algorithms are supervised machine learning techniques designed to predict discrete labels or categories based on input features. These models are trained on labeled datasets where the target variable is categorical."
   ]
  },
  {
   "cell_type": "markdown",
   "id": "1e8009d5-d070-4769-aa78-51c561ccb221",
   "metadata": {},
   "source": [
    "<h1 style=\"color:#4d4d4d;\"><b>1. Logistic Regression</b></h1>"
   ]
  },
  {
   "cell_type": "markdown",
   "id": "b94c71b5-5034-4357-b9f6-ad20b440910f",
   "metadata": {},
   "source": [
    "Logistic Regression is a linear model that predicts the probability of a sample belonging to a particular class. It's suitable for this dataset because it's a binary classification problem. "
   ]
  },
  {
   "cell_type": "code",
   "execution_count": 21,
   "id": "6efa2150-634e-4da0-9605-967827ac5fc2",
   "metadata": {},
   "outputs": [],
   "source": [
    "# from sklearn.linear_model import LogisticRegression\n",
    "# lr = LogisticRegression()\n",
    "# lr.fit(X_train, y_train)"
   ]
  },
  {
   "cell_type": "markdown",
   "id": "bf8caad9-1f74-47fc-a252-ae55d41fed2d",
   "metadata": {},
   "source": [
    "        "
   ]
  },
  {
   "cell_type": "markdown",
   "id": "57aa13fd-fdff-4d64-ba02-b76dcdd4d8f2",
   "metadata": {},
   "source": [
    "<h1 style=\"color:#4d4d4d;\"><b>2. Decision Tree Classifier</b></h1>"
   ]
  },
  {
   "cell_type": "markdown",
   "id": "8870ed0b-ed86-494e-a439-2805992eb3dd",
   "metadata": {},
   "source": [
    "Decision Tree Classifier is a tree-based model that splits the data into subsets based on features. It's suitable for this dataset because it can handle high-dimensional data and is easy to interpret."
   ]
  },
  {
   "cell_type": "code",
   "execution_count": 22,
   "id": "a078768a-b533-4281-8f87-254fbf68778b",
   "metadata": {},
   "outputs": [],
   "source": [
    "# from sklearn.tree import DecisionTreeClassifier\n",
    "# dtc = DecisionTreeClassifier(max_depth=5)\n",
    "# dtc.fit(X_train, y_train)"
   ]
  },
  {
   "cell_type": "markdown",
   "id": "cc17ff13-729f-4039-8fb3-597321b62fd9",
   "metadata": {},
   "source": [
    "        "
   ]
  },
  {
   "cell_type": "markdown",
   "id": "3b0f9698-096d-434d-ae9a-5ea987227bb2",
   "metadata": {},
   "source": [
    "<h1 style=\"color:#4d4d4d;\"><b>3. Random Forest Classifier</b></h1>"
   ]
  },
  {
   "cell_type": "markdown",
   "id": "bc687e14-a929-4631-8f77-aff2a4010d4d",
   "metadata": {},
   "source": [
    "Random Forest Classifier is an ensemble model that combines multiple decision trees to improve accuracy and reduce overfitting. It's suitable for this dataset because it can handle high-dimensional data and is robust to outliers."
   ]
  },
  {
   "cell_type": "code",
   "execution_count": 23,
   "id": "8efd08ef-dcfb-4ad7-b759-eea164f327b6",
   "metadata": {},
   "outputs": [],
   "source": [
    "# from sklearn.ensemble import RandomForestClassifier\n",
    "# rfc = RandomForestClassifier(n_estimators=100)\n",
    "# rfc.fit(X_train, y_train)"
   ]
  },
  {
   "cell_type": "markdown",
   "id": "25b1a26f-c6b3-44dc-a492-5c1220d41686",
   "metadata": {},
   "source": [
    "<br>"
   ]
  },
  {
   "cell_type": "markdown",
   "id": "70edc716-6675-46a0-b90a-fb4804a95f5e",
   "metadata": {},
   "source": [
    "<h1 style=\"color:#4d4d4d;\"><b>Dumping Models</b></h1>"
   ]
  },
  {
   "cell_type": "code",
   "execution_count": 24,
   "id": "8e17586c-54b1-40c9-a515-3f7dfc1f8166",
   "metadata": {},
   "outputs": [],
   "source": [
    "# import  pickle\n",
    "# lr_name = 'lr.pkl'\n",
    "# dtc_name = 'dtc.pkl'\n",
    "# rfc_name = 'rfc.pkl'\n",
    "# with open(lr_name,'wb') as file:\n",
    "#         pickle.dump(lr,file)\n",
    "# with open(dtc_name,'wb') as file:\n",
    "#         pickle.dump(dtc,file)\n",
    "# with open(rfc_name,'wb') as file:\n",
    "#         pickle.dump(rfc,file)"
   ]
  },
  {
   "cell_type": "code",
   "execution_count": 25,
   "id": "1aecc3e1-7884-4069-b524-1413b77a3eb9",
   "metadata": {},
   "outputs": [],
   "source": [
    "import pickle\n",
    "with open(\"lr.pkl\", \"rb\") as lr_file:\n",
    "    lr = pickle.load(lr_file)\n",
    "with open(\"dtc.pkl\", \"rb\") as dtc_file:\n",
    "    dtc = pickle.load(dtc_file)\n",
    "with open(\"rfc.pkl\", \"rb\") as rfc_file:\n",
    "    rfc = pickle.load(rfc_file)"
   ]
  },
  {
   "cell_type": "markdown",
   "id": "42e7b244-560e-460b-b582-38de0f65590d",
   "metadata": {},
   "source": [
    "<br>"
   ]
  },
  {
   "cell_type": "markdown",
   "id": "ae97c30d-b3f1-45aa-ada9-e8e73203e34e",
   "metadata": {},
   "source": [
    "<center><h1><b>EVALUATING MODELS</b></h1></center>"
   ]
  },
  {
   "cell_type": "code",
   "execution_count": 26,
   "id": "8f16fa21-5631-4dbc-bd26-7d02b68fc90d",
   "metadata": {},
   "outputs": [],
   "source": [
    "models = [lr,dtc,rfc]"
   ]
  },
  {
   "cell_type": "code",
   "execution_count": 27,
   "id": "cbaf54ee-6f0f-4b32-bce4-51faaef0582c",
   "metadata": {},
   "outputs": [],
   "source": [
    "from sklearn.metrics import precision_score,recall_score,f1_score,confusion_matrix,accuracy_score"
   ]
  },
  {
   "cell_type": "code",
   "execution_count": 28,
   "id": "cb2f5b15-25fc-45d4-aa95-b769f307a988",
   "metadata": {},
   "outputs": [
    {
     "name": "stdout",
     "output_type": "stream",
     "text": [
      "\n",
      "Model: Logistic Regression\n",
      "Accuracy: 0.7334\n",
      "Precision: 0.7202\n",
      "Recall: 0.7641\n",
      "F1 Score: 0.7415\n",
      "Confusion Matrix:\n",
      "[[27284 11550]\n",
      " [ 9181 29736]]\n",
      "\n",
      "Model: Decision Tree\n",
      "Accuracy: 0.6839\n",
      "Precision: 0.6633\n",
      "Recall: 0.7481\n",
      "F1 Score: 0.7032\n",
      "Confusion Matrix:\n",
      "[[24058 14776]\n",
      " [ 9804 29113]]\n",
      "\n",
      "Model: Random Forest\n",
      "Accuracy: 0.9346\n",
      "Precision: 0.9185\n",
      "Recall: 0.9540\n",
      "F1 Score: 0.9359\n",
      "Confusion Matrix:\n",
      "[[35541  3293]\n",
      " [ 1790 37127]]\n"
     ]
    }
   ],
   "source": [
    "models = [lr, dtc, rfc]\n",
    "model_names = [\"Logistic Regression\", \"Decision Tree\", \"Random Forest\"]\n",
    "\n",
    "for model, name in zip(models, model_names):\n",
    "    print(f\"\\nModel: {name}\")\n",
    "    y_pred = model.predict(X_test)\n",
    "    accuracy = accuracy_score(y_test, y_pred)\n",
    "    precision = precision_score(y_test, y_pred)\n",
    "    recall = recall_score(y_test, y_pred)\n",
    "    f1 = f1_score(y_test, y_pred)\n",
    "    cm = confusion_matrix(y_test, y_pred)\n",
    "    \n",
    "    print(f\"Accuracy: {accuracy:.4f}\")\n",
    "    print(f\"Precision: {precision:.4f}\")\n",
    "    print(f\"Recall: {recall:.4f}\")\n",
    "    print(f\"F1 Score: {f1:.4f}\")\n",
    "    print(f\"Confusion Matrix:\\n{cm}\")"
   ]
  },
  {
   "cell_type": "markdown",
   "id": "89311bec-f15e-45a4-b59b-d2467c7f8f61",
   "metadata": {},
   "source": [
    "        "
   ]
  },
  {
   "cell_type": "markdown",
   "id": "faeecb7c-703d-4224-baff-94b1022ef0c0",
   "metadata": {},
   "source": [
    "<h2>Based on the evaluation matrices <b>Random Forest Classifier</b> is the best performing model.</h2>\n",
    "<h3>Accuracy: 0.9346 (~94 %)</h3>\n",
    "Accuracy score measures overall correctness of the model.It shows how many predictions were right out of all predictions.<br>\n",
    "The value indicates <b>94%</b> of all predictions were correct.\n",
    "<h3>Precision: 0.9185 (~92 %)</h3>\n",
    "Precision score measures how many predicted positives were actually correct. Indicates how often is it right, when the model says something is positive.<br>\n",
    "The value indicates <b>92 %</b> of predicted positives are actually correct.\n",
    "<h3>Recall: 0.9540 (~95 %)</h3>\n",
    "Recall score measures how many actual positives the model correctly found.Indicates Out of all actual positives, how many did the model catch.<br>\n",
    "The value indicates model correctly detected <b>95 %</b> actual positive cases.\n",
    "<h3>F1 Score: 0.9359 (~94 %)</h3>\n",
    "F1 Score is the balanced measure of Precision & Recall. <br>\n",
    "The value <b>94 %</b> indicates model is well balanced."
   ]
  },
  {
   "cell_type": "markdown",
   "id": "6f47f096-0a9e-4de7-800f-5e657fea8679",
   "metadata": {},
   "source": [
    "### Confusion Matrix\n",
    "#### Total Entries : 77751\n",
    "| Prediction vs. Actual  | Count  | Meaning |\n",
    "|------------------------|--------|--------------------------------|\n",
    "| **True Negatives (TN)**  | 35541 | Correctly predicted Negatives (0). |\n",
    "| **False Positives (FP)** | 3293  | Wrongly predicted as Positive (Type I Error). |\n",
    "| **False Negatives (FN)** | 1790  | Missed actual Positives (Type II Error). |\n",
    "| **True Positives (TP)**  | 37127 | Correctly predicted Positives (1). |\n",
    "\n",
    "#### **Note:**  *The High TP (35,541) indicates the model is good at detecting Positives. But the FP indicates the model makes significant number of false alarms.*"
   ]
  },
  {
   "cell_type": "code",
   "execution_count": 29,
   "id": "a07a6fd6-a066-43b5-a943-ed563f0e3e35",
   "metadata": {},
   "outputs": [],
   "source": [
    "# check for overfitting\n",
    "rfc_train_accuracy = rfc.score(X_train, y_train)"
   ]
  },
  {
   "cell_type": "code",
   "execution_count": 30,
   "id": "0018974f-4767-42cc-b4a2-641efe866d6f",
   "metadata": {},
   "outputs": [
    {
     "data": {
      "text/plain": [
       "0.934785194998119"
      ]
     },
     "execution_count": 30,
     "metadata": {},
     "output_type": "execute_result"
    }
   ],
   "source": [
    "rfc_train_accuracy"
   ]
  },
  {
   "cell_type": "markdown",
   "id": "4378b871-5b04-4905-a65e-aa98d834649b",
   "metadata": {},
   "source": [
    "<h1 style=\"color:#4d4d4d;\"><b>Hyper Parameter Tuning - RFC</b></h1>"
   ]
  },
  {
   "cell_type": "code",
   "execution_count": 31,
   "id": "12d0fe59-518e-4aba-a115-e31ace3538b8",
   "metadata": {},
   "outputs": [],
   "source": [
    "# from sklearn.ensemble import RandomForestClassifier\n",
    "# from sklearn.model_selection import RandomizedSearchCV\n",
    "# import numpy as np\n",
    "\n",
    "# # parameter grid for tuning\n",
    "# param_grid = {\n",
    "#     'n_estimators': [10, 50, 100, 200],\n",
    "#     'max_depth': [None, 10, 20, 30],\n",
    "#     'min_samples_split': [2, 5, 10],\n",
    "#     'min_samples_leaf': [1, 2, 4]\n",
    "# }\n",
    "# rfc = RandomForestClassifier(random_state=42, n_jobs=-1)\n",
    "# random_search = RandomizedSearchCV(rfc, param_distributions=param_grid, n_iter=20, cv=5, scoring=\"f1\", n_jobs=-1, verbose=2, random_state=42)\n",
    "# random_search.fit(X_train, y_train)\n",
    "# print(\"Best Parameters:\", random_search.best_params_)\n",
    "# best_rfc = random_search.best_estimator_"
   ]
  },
  {
   "cell_type": "code",
   "execution_count": 32,
   "id": "5307f786-b1d1-47c1-9443-c8dc861fe668",
   "metadata": {},
   "outputs": [
    {
     "data": {
      "text/plain": [
       "array([0.05497727, 0.03277077, 0.00829854, 0.03683153, 0.01048298,\n",
       "       0.02188491, 0.03602642, 0.03237258, 0.03127162, 0.02002388,\n",
       "       0.01160478, 0.0159808 , 0.01906287, 0.02536775, 0.02064913,\n",
       "       0.00659035, 0.0246979 , 0.03914457, 0.00669289, 0.00853234,\n",
       "       0.00882333, 0.00952285, 0.01173991, 0.01560216, 0.01720665,\n",
       "       0.01822436, 0.01776471, 0.0165523 , 0.01435148, 0.01312288,\n",
       "       0.00520646, 0.00892202, 0.01899756, 0.01891482, 0.02298459,\n",
       "       0.01154804, 0.01413879, 0.01615672, 0.01832761, 0.0196471 ,\n",
       "       0.01932042, 0.02378385, 0.04117818, 0.02090139, 0.00296488,\n",
       "       0.02568386, 0.01606033, 0.01775252, 0.03199321, 0.01914549,\n",
       "       0.02019765])"
      ]
     },
     "execution_count": 32,
     "metadata": {},
     "output_type": "execute_result"
    }
   ],
   "source": [
    "rfc.feature_importances_"
   ]
  },
  {
   "cell_type": "markdown",
   "id": "79d225a1-8652-4736-92f8-f7982a454770",
   "metadata": {},
   "source": [
    "<br>"
   ]
  },
  {
   "cell_type": "markdown",
   "id": "03e2f75c-dbe8-452a-8852-afd81e2e79db",
   "metadata": {},
   "source": [
    "<center><h1><b>FEATURE IMPORTANCE</b></h1></center>"
   ]
  },
  {
   "cell_type": "code",
   "execution_count": 33,
   "id": "97d449e9-c730-4e73-a73f-c5657e7fa3d8",
   "metadata": {},
   "outputs": [],
   "source": [
    "importances = rfc.feature_importances_\n",
    "features = X_test.columns\n",
    "importance_df = pd.DataFrame({\n",
    "    'Feature': features,\n",
    "    'Importance': importances\n",
    "})"
   ]
  },
  {
   "cell_type": "code",
   "execution_count": 34,
   "id": "5f77103e-14f9-43b5-9842-aef4b2cd7f47",
   "metadata": {},
   "outputs": [],
   "source": [
    "importance_df = importance_df.sort_values(by='Importance', ascending=False)"
   ]
  },
  {
   "cell_type": "code",
   "execution_count": 35,
   "id": "d910d7db-fd1b-4237-bd9d-fc4094145201",
   "metadata": {},
   "outputs": [
    {
     "data": {
      "text/html": [
       "<div>\n",
       "<style scoped>\n",
       "    .dataframe tbody tr th:only-of-type {\n",
       "        vertical-align: middle;\n",
       "    }\n",
       "\n",
       "    .dataframe tbody tr th {\n",
       "        vertical-align: top;\n",
       "    }\n",
       "\n",
       "    .dataframe thead th {\n",
       "        text-align: right;\n",
       "    }\n",
       "</style>\n",
       "<table border=\"1\" class=\"dataframe\">\n",
       "  <thead>\n",
       "    <tr style=\"text-align: right;\">\n",
       "      <th></th>\n",
       "      <th>Feature</th>\n",
       "      <th>Importance</th>\n",
       "    </tr>\n",
       "  </thead>\n",
       "  <tbody>\n",
       "    <tr>\n",
       "      <th>0</th>\n",
       "      <td>HighBP_1</td>\n",
       "      <td>0.054977</td>\n",
       "    </tr>\n",
       "    <tr>\n",
       "      <th>42</th>\n",
       "      <td>BMI_Category_Obese</td>\n",
       "      <td>0.041178</td>\n",
       "    </tr>\n",
       "    <tr>\n",
       "      <th>17</th>\n",
       "      <td>Sex_1</td>\n",
       "      <td>0.039145</td>\n",
       "    </tr>\n",
       "    <tr>\n",
       "      <th>3</th>\n",
       "      <td>Smoker_1</td>\n",
       "      <td>0.036832</td>\n",
       "    </tr>\n",
       "    <tr>\n",
       "      <th>6</th>\n",
       "      <td>PhysActivity_1</td>\n",
       "      <td>0.036026</td>\n",
       "    </tr>\n",
       "    <tr>\n",
       "      <th>1</th>\n",
       "      <td>HighChol_1</td>\n",
       "      <td>0.032771</td>\n",
       "    </tr>\n",
       "    <tr>\n",
       "      <th>7</th>\n",
       "      <td>Fruits_1</td>\n",
       "      <td>0.032373</td>\n",
       "    </tr>\n",
       "    <tr>\n",
       "      <th>48</th>\n",
       "      <td>PhysHlthNotGood_1-5 days</td>\n",
       "      <td>0.031993</td>\n",
       "    </tr>\n",
       "    <tr>\n",
       "      <th>8</th>\n",
       "      <td>Veggies_1</td>\n",
       "      <td>0.031272</td>\n",
       "    </tr>\n",
       "    <tr>\n",
       "      <th>45</th>\n",
       "      <td>MntlHlthNotGood_1-5 days</td>\n",
       "      <td>0.025684</td>\n",
       "    </tr>\n",
       "    <tr>\n",
       "      <th>13</th>\n",
       "      <td>GenHlth_3</td>\n",
       "      <td>0.025368</td>\n",
       "    </tr>\n",
       "    <tr>\n",
       "      <th>16</th>\n",
       "      <td>DiffWalk_1</td>\n",
       "      <td>0.024698</td>\n",
       "    </tr>\n",
       "    <tr>\n",
       "      <th>41</th>\n",
       "      <td>Income_8</td>\n",
       "      <td>0.023784</td>\n",
       "    </tr>\n",
       "    <tr>\n",
       "      <th>34</th>\n",
       "      <td>Education_6</td>\n",
       "      <td>0.022985</td>\n",
       "    </tr>\n",
       "    <tr>\n",
       "      <th>5</th>\n",
       "      <td>HeartDiseaseorAttack_1</td>\n",
       "      <td>0.021885</td>\n",
       "    </tr>\n",
       "    <tr>\n",
       "      <th>43</th>\n",
       "      <td>BMI_Category_Overweight</td>\n",
       "      <td>0.020901</td>\n",
       "    </tr>\n",
       "    <tr>\n",
       "      <th>14</th>\n",
       "      <td>GenHlth_4</td>\n",
       "      <td>0.020649</td>\n",
       "    </tr>\n",
       "    <tr>\n",
       "      <th>50</th>\n",
       "      <td>PhysHlthNotGood_6-15 days</td>\n",
       "      <td>0.020198</td>\n",
       "    </tr>\n",
       "    <tr>\n",
       "      <th>9</th>\n",
       "      <td>HvyAlcoholConsump_1</td>\n",
       "      <td>0.020024</td>\n",
       "    </tr>\n",
       "    <tr>\n",
       "      <th>39</th>\n",
       "      <td>Income_6</td>\n",
       "      <td>0.019647</td>\n",
       "    </tr>\n",
       "    <tr>\n",
       "      <th>40</th>\n",
       "      <td>Income_7</td>\n",
       "      <td>0.019320</td>\n",
       "    </tr>\n",
       "    <tr>\n",
       "      <th>49</th>\n",
       "      <td>PhysHlthNotGood_16+ days</td>\n",
       "      <td>0.019145</td>\n",
       "    </tr>\n",
       "    <tr>\n",
       "      <th>12</th>\n",
       "      <td>GenHlth_2</td>\n",
       "      <td>0.019063</td>\n",
       "    </tr>\n",
       "    <tr>\n",
       "      <th>32</th>\n",
       "      <td>Education_4</td>\n",
       "      <td>0.018998</td>\n",
       "    </tr>\n",
       "    <tr>\n",
       "      <th>33</th>\n",
       "      <td>Education_5</td>\n",
       "      <td>0.018915</td>\n",
       "    </tr>\n",
       "    <tr>\n",
       "      <th>38</th>\n",
       "      <td>Income_5</td>\n",
       "      <td>0.018328</td>\n",
       "    </tr>\n",
       "    <tr>\n",
       "      <th>25</th>\n",
       "      <td>Age_9</td>\n",
       "      <td>0.018224</td>\n",
       "    </tr>\n",
       "    <tr>\n",
       "      <th>26</th>\n",
       "      <td>Age_10</td>\n",
       "      <td>0.017765</td>\n",
       "    </tr>\n",
       "    <tr>\n",
       "      <th>47</th>\n",
       "      <td>MntlHlthNotGood_6-15 days</td>\n",
       "      <td>0.017753</td>\n",
       "    </tr>\n",
       "    <tr>\n",
       "      <th>24</th>\n",
       "      <td>Age_8</td>\n",
       "      <td>0.017207</td>\n",
       "    </tr>\n",
       "    <tr>\n",
       "      <th>27</th>\n",
       "      <td>Age_11</td>\n",
       "      <td>0.016552</td>\n",
       "    </tr>\n",
       "    <tr>\n",
       "      <th>37</th>\n",
       "      <td>Income_4</td>\n",
       "      <td>0.016157</td>\n",
       "    </tr>\n",
       "    <tr>\n",
       "      <th>46</th>\n",
       "      <td>MntlHlthNotGood_16+ days</td>\n",
       "      <td>0.016060</td>\n",
       "    </tr>\n",
       "    <tr>\n",
       "      <th>11</th>\n",
       "      <td>NoDocbcCost_1</td>\n",
       "      <td>0.015981</td>\n",
       "    </tr>\n",
       "    <tr>\n",
       "      <th>23</th>\n",
       "      <td>Age_7</td>\n",
       "      <td>0.015602</td>\n",
       "    </tr>\n",
       "    <tr>\n",
       "      <th>28</th>\n",
       "      <td>Age_12</td>\n",
       "      <td>0.014351</td>\n",
       "    </tr>\n",
       "    <tr>\n",
       "      <th>36</th>\n",
       "      <td>Income_3</td>\n",
       "      <td>0.014139</td>\n",
       "    </tr>\n",
       "    <tr>\n",
       "      <th>29</th>\n",
       "      <td>Age_13</td>\n",
       "      <td>0.013123</td>\n",
       "    </tr>\n",
       "    <tr>\n",
       "      <th>22</th>\n",
       "      <td>Age_6</td>\n",
       "      <td>0.011740</td>\n",
       "    </tr>\n",
       "    <tr>\n",
       "      <th>10</th>\n",
       "      <td>AnyHealthcare_1</td>\n",
       "      <td>0.011605</td>\n",
       "    </tr>\n",
       "    <tr>\n",
       "      <th>35</th>\n",
       "      <td>Income_2</td>\n",
       "      <td>0.011548</td>\n",
       "    </tr>\n",
       "    <tr>\n",
       "      <th>4</th>\n",
       "      <td>Stroke_1</td>\n",
       "      <td>0.010483</td>\n",
       "    </tr>\n",
       "    <tr>\n",
       "      <th>21</th>\n",
       "      <td>Age_5</td>\n",
       "      <td>0.009523</td>\n",
       "    </tr>\n",
       "    <tr>\n",
       "      <th>31</th>\n",
       "      <td>Education_3</td>\n",
       "      <td>0.008922</td>\n",
       "    </tr>\n",
       "    <tr>\n",
       "      <th>20</th>\n",
       "      <td>Age_4</td>\n",
       "      <td>0.008823</td>\n",
       "    </tr>\n",
       "    <tr>\n",
       "      <th>19</th>\n",
       "      <td>Age_3</td>\n",
       "      <td>0.008532</td>\n",
       "    </tr>\n",
       "    <tr>\n",
       "      <th>2</th>\n",
       "      <td>CholCheck_1</td>\n",
       "      <td>0.008299</td>\n",
       "    </tr>\n",
       "    <tr>\n",
       "      <th>18</th>\n",
       "      <td>Age_2</td>\n",
       "      <td>0.006693</td>\n",
       "    </tr>\n",
       "    <tr>\n",
       "      <th>15</th>\n",
       "      <td>GenHlth_5</td>\n",
       "      <td>0.006590</td>\n",
       "    </tr>\n",
       "    <tr>\n",
       "      <th>30</th>\n",
       "      <td>Education_2</td>\n",
       "      <td>0.005206</td>\n",
       "    </tr>\n",
       "    <tr>\n",
       "      <th>44</th>\n",
       "      <td>BMI_Category_Underweight</td>\n",
       "      <td>0.002965</td>\n",
       "    </tr>\n",
       "  </tbody>\n",
       "</table>\n",
       "</div>"
      ],
      "text/plain": [
       "                      Feature  Importance\n",
       "0                    HighBP_1    0.054977\n",
       "42         BMI_Category_Obese    0.041178\n",
       "17                      Sex_1    0.039145\n",
       "3                    Smoker_1    0.036832\n",
       "6              PhysActivity_1    0.036026\n",
       "1                  HighChol_1    0.032771\n",
       "7                    Fruits_1    0.032373\n",
       "48   PhysHlthNotGood_1-5 days    0.031993\n",
       "8                   Veggies_1    0.031272\n",
       "45   MntlHlthNotGood_1-5 days    0.025684\n",
       "13                  GenHlth_3    0.025368\n",
       "16                 DiffWalk_1    0.024698\n",
       "41                   Income_8    0.023784\n",
       "34                Education_6    0.022985\n",
       "5      HeartDiseaseorAttack_1    0.021885\n",
       "43    BMI_Category_Overweight    0.020901\n",
       "14                  GenHlth_4    0.020649\n",
       "50  PhysHlthNotGood_6-15 days    0.020198\n",
       "9         HvyAlcoholConsump_1    0.020024\n",
       "39                   Income_6    0.019647\n",
       "40                   Income_7    0.019320\n",
       "49   PhysHlthNotGood_16+ days    0.019145\n",
       "12                  GenHlth_2    0.019063\n",
       "32                Education_4    0.018998\n",
       "33                Education_5    0.018915\n",
       "38                   Income_5    0.018328\n",
       "25                      Age_9    0.018224\n",
       "26                     Age_10    0.017765\n",
       "47  MntlHlthNotGood_6-15 days    0.017753\n",
       "24                      Age_8    0.017207\n",
       "27                     Age_11    0.016552\n",
       "37                   Income_4    0.016157\n",
       "46   MntlHlthNotGood_16+ days    0.016060\n",
       "11              NoDocbcCost_1    0.015981\n",
       "23                      Age_7    0.015602\n",
       "28                     Age_12    0.014351\n",
       "36                   Income_3    0.014139\n",
       "29                     Age_13    0.013123\n",
       "22                      Age_6    0.011740\n",
       "10            AnyHealthcare_1    0.011605\n",
       "35                   Income_2    0.011548\n",
       "4                    Stroke_1    0.010483\n",
       "21                      Age_5    0.009523\n",
       "31                Education_3    0.008922\n",
       "20                      Age_4    0.008823\n",
       "19                      Age_3    0.008532\n",
       "2                 CholCheck_1    0.008299\n",
       "18                      Age_2    0.006693\n",
       "15                  GenHlth_5    0.006590\n",
       "30                Education_2    0.005206\n",
       "44   BMI_Category_Underweight    0.002965"
      ]
     },
     "execution_count": 35,
     "metadata": {},
     "output_type": "execute_result"
    }
   ],
   "source": [
    "importance_df"
   ]
  },
  {
   "cell_type": "code",
   "execution_count": 37,
   "id": "359e3cad-7519-4db6-9822-50051cd833ab",
   "metadata": {},
   "outputs": [
    {
     "data": {
      "image/png": "[encoded data removed]",
      "text/plain": [
       "<Figure size 1500x1000 with 1 Axes>"
      ]
     },
     "metadata": {},
     "output_type": "display_data"
    }
   ],
   "source": [
    "from sklearn.tree import plot_tree\n",
    "import matplotlib.pyplot as plt\n",
    "\n",
    "tree = rfc.estimators_[0]\n",
    "plt.figure(figsize=(15,10))\n",
    "#plot_tree(tree, filled=True, feature_names=X_test.columns, class_names=['No Diabetes', 'Diabetes'], rounded=True)\n",
    "plot_tree(tree, filled=True, feature_names=X_test.columns, class_names=[\"Non-Diabetes\", \"Diabetes\"], rounded=True, max_depth=2)\n",
    "plt.show()"
   ]
  },
  {
   "cell_type": "markdown",
   "id": "84bf7797-7f73-4d0a-af4b-4983fc823f4a",
   "metadata": {},
   "source": [
    "<center><h1><b>CONCLUSION</b></h1></center>"
   ]
  },
  {
   "cell_type": "markdown",
   "id": "33c93fc5-9d63-4162-b127-503394f893ab",
   "metadata": {},
   "source": [
    "<h3>Of all models, the <b>Decision Tree Classifier</b> model, trained and tested on the binary classification problem targeting diabetes detection, achieved an exceptional accuracy of around <b>94 %</b> without tuning.</h3><br>\n",
    "<h3>Conclusions based on <b>feature importances</b> and the <b>tree plot</b></h3> \n",
    "<h4>the key factors associated with diabetes are:</h4>\n",
    "<ul>\n",
    "    <li><b>High Cholesterol</b> (HighChol > 0.5 - tree & feature impotance)</li>\n",
    "    <li><b>High Blood Pressure</b> (HighBP > 0.5 - tree & feature impotance)</li>\n",
    "    <li><b>Lower Physical Activity</b> (PhysActivity <= 0.5 - tree & feature impotance)</li>\n",
    "    <li><b>Higher BMI</b> (BMI_Category_Obese > 0.5 - tree & feature impotance)</li>\n",
    "    <li><b>Smoking</b> (0.036832 - feature impotance)</li>\n",
    "</ul>\n",
    "<h4>Demographic factors like <b>gender</b> and <b>age</b> and socioeconomic factors like <b>income</b> and <b>education levels</b> also contribute to potential diabetes risk.\n",
    "</h4>\n",
    "<br>\n",
    "<h4>Conclusions align well with the observations made during data exploration.</h4>"
   ]
  }
 ],
 "metadata": {
  "kernelspec": {
   "display_name": "Python 3 (ipykernel)",
   "language": "python",
   "name": "python3"
  },
  "language_info": {
   "codemirror_mode": {
    "name": "ipython",
    "version": 3
   },
   "file_extension": ".py",
   "mimetype": "text/x-python",
   "name": "python",
   "nbconvert_exporter": "python",
   "pygments_lexer": "ipython3",
   "version": "3.12.7"
  }
 },
 "nbformat": 4,
 "nbformat_minor": 5
}
